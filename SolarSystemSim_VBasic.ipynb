{
 "cells": [
  {
   "cell_type": "code",
   "execution_count": 1,
   "id": "7486cdb0",
   "metadata": {},
   "outputs": [],
   "source": [
    "#Libraries\n",
    "import numpy as np\n",
    "\n",
    "#Plotting & animation\n",
    "import matplotlib.pyplot as plt\n",
    "from matplotlib import animation\n",
    "\n",
    "#Astro\n",
    "import astropy.constants as const\n",
    "import astropy.units as u\n",
    "\n",
    "#GUI\n",
    "import ipywidgets as widgets"
   ]
  },
  {
   "cell_type": "markdown",
   "id": "e16a0bec",
   "metadata": {},
   "source": [
    "### Class Design Time! (Revisions probably needed) (Classes are in progress below!!)\n",
    "\n",
    "Things we will need to represent:\n",
    "- Planets\n",
    "- Stars\n",
    "- Solar system (which contains a list of planets, as well as a star? Maybe that's the way to do it. Would make potential future expansion easier if we ever want to add binary system/etc/other system with multiple stars)\n",
    "- Transits (should just be a list representing flux over a time interval)\n",
    "- Vectors (data abstraction -> make a class!)\n",
    "- User inputs (keep this organized though)\n",
    "- GUI: Widgets seems like possible solution? Tutorial: https://towardsdatascience.com/bring-your-jupyter-notebook-to-life-with-interactive-widgets-bc12e03f0916\n",
    "\n",
    "- How to handle time? (By days? Can users speed up/slow it down?)"
   ]
  },
  {
   "cell_type": "code",
   "execution_count": 32,
   "id": "3b8c2dfa",
   "metadata": {},
   "outputs": [],
   "source": [
    "class Vector: \n",
    "    \n",
    "    def __init__(self, x, y):\n",
    "        self.x = x\n",
    "        self.y = y\n",
    "    \n",
    "    def __str__(self):\n",
    "        return f'<{self.x}, {self.y}>'\n",
    "    \n",
    "    def length(self):\n",
    "        return math.sqrt(pow(self.x, 2) + pow(self.y, 2))\n",
    "    \n",
    "    def angle(self):\n",
    "        return math.atan2(self.y, self.x)"
   ]
  },
  {
   "cell_type": "code",
   "execution_count": 37,
   "id": "ac65a80a",
   "metadata": {},
   "outputs": [],
   "source": [
    "# Physics stuff. Functions for useful equations go here\n",
    "\n",
    "'''\n",
    "Differential equation for finding orbital velocity & acceleration for Planet orbiting Star at some point in time, T\n",
    "'''\n",
    "def gravitation(planet, star, t):\n",
    "    pos = planet.position\n",
    "    vel = [planet.velocity.x, planet.velocity.y]\n",
    "    \n",
    "    pos_12 = np.linalg.norm(pos)\n",
    "    dv_dt = star.mass * (-pos) / pow(pos_12, 3)\n",
    "    dpos_dt = vel\n",
    "    \n",
    "    return dpos_dt.extend(dv_dt)\n",
    "\n"
   ]
  },
  {
   "cell_type": "markdown",
   "id": "4d6bbf26",
   "metadata": {},
   "source": [
    "Methods/attributes a planet should have:\n"
   ]
  },
  {
   "cell_type": "code",
   "execution_count": 27,
   "id": "84009cf0",
   "metadata": {},
   "outputs": [],
   "source": [
    "class Planet:\n",
    "    \n",
    "    '''\n",
    "    radius: radius of planet in Earth radii\n",
    "    mass: mass of planet in Earth masses\n",
    "    position: list representing x, y position of planet\n",
    "    velocity: vector representing x and y components of planet's velocity\n",
    "    '''\n",
    "    def __init__(self, radius, mass, position, velocity, accel=None, name=None):\n",
    "        self.radius = radius * u.R_earth\n",
    "        self.mass = mass * u.M_earth\n",
    "        self.position = position #todo: figure this out\n",
    "        self.velocity = velocity #todo: figure this out\n",
    "        self.acceleration = accel #todo: figure this out\n",
    "        self.name = name\n",
    "        \n",
    "    def __repr__(self):\n",
    "        #todo: print representation\n",
    "        return\n",
    "        \n",
    "    def __str__(self):\n",
    "        return f'Planet {self.name}. Radius={self.radius}, mass={self.mass}'"
   ]
  },
  {
   "cell_type": "markdown",
   "id": "dbe09592",
   "metadata": {},
   "source": [
    "Methods/attributes a star should have:\n"
   ]
  },
  {
   "cell_type": "code",
   "execution_count": 35,
   "id": "5983a1fe",
   "metadata": {},
   "outputs": [],
   "source": [
    "class Star:\n",
    "    \n",
    "    '''\n",
    "    radius: radius of star in solar radii\n",
    "    mass: mass of star in solar masses\n",
    "    position: list representing x, y position of star (defaults to origin)\n",
    "    velocity: vector representing x and y components of star's velocity (defaults to 0; ie. stationary)\n",
    "    '''\n",
    "    def __init__(self, radius, mass, position=[0,0], velocity=Vector(0, 0), name='Sol'):\n",
    "        self.radius = radius * u.R_sun\n",
    "        self.mass = mass * u.M_sun\n",
    "        self.position = position\n",
    "        self.velocity = velocity\n",
    "        self.name = name\n",
    "    \n",
    "    def __repr__(self):\n",
    "        #todo: print representation\n",
    "        return\n",
    "        \n",
    "    def __str__(self):\n",
    "        return f'Star {self.name}. Radius={self.radius}, mass={self.mass}'   "
   ]
  },
  {
   "cell_type": "markdown",
   "id": "4a150cd7",
   "metadata": {},
   "source": [
    "Methods/attributes a solar system should have:\n"
   ]
  },
  {
   "cell_type": "code",
   "execution_count": 36,
   "id": "542de806",
   "metadata": {},
   "outputs": [],
   "source": [
    "class SolarSystem: \n",
    "    \n",
    "    def __init__(self, star, planets=[]):\n",
    "        self.star = star\n",
    "        self.planets = planets\n",
    "        "
   ]
  },
  {
   "cell_type": "code",
   "execution_count": 31,
   "id": "d39f5a4a",
   "metadata": {},
   "outputs": [],
   "source": []
  },
  {
   "cell_type": "code",
   "execution_count": null,
   "id": "1a814b26",
   "metadata": {},
   "outputs": [],
   "source": []
  },
  {
   "cell_type": "code",
   "execution_count": 33,
   "id": "461553f6",
   "metadata": {},
   "outputs": [
    {
     "data": {
      "text/plain": [
       "'Planet earth. Radius=1.0 earthRad, mass=1.0 earthMass'"
      ]
     },
     "execution_count": 33,
     "metadata": {},
     "output_type": "execute_result"
    }
   ],
   "source": [
    "earth = Planet(1, 1, name='earth')\n",
    "earth.radius\n",
    "str(earth)"
   ]
  },
  {
   "cell_type": "code",
   "execution_count": 34,
   "id": "aaa5a91d",
   "metadata": {},
   "outputs": [
    {
     "data": {
      "text/latex": [
       "$317.8 \\; \\mathrm{M_{\\oplus}}$"
      ],
      "text/plain": [
       "<Quantity 317.8 earthMass>"
      ]
     },
     "execution_count": 34,
     "metadata": {},
     "output_type": "execute_result"
    }
   ],
   "source": [
    "j = Planet(11.2, 317.8, name='jupiter')\n",
    "j.mass"
   ]
  }
 ],
 "metadata": {
  "kernelspec": {
   "display_name": "Python 3",
   "language": "python",
   "name": "python3"
  },
  "language_info": {
   "codemirror_mode": {
    "name": "ipython",
    "version": 3
   },
   "file_extension": ".py",
   "mimetype": "text/x-python",
   "name": "python",
   "nbconvert_exporter": "python",
   "pygments_lexer": "ipython3",
   "version": "3.8.8"
  }
 },
 "nbformat": 4,
 "nbformat_minor": 5
}
