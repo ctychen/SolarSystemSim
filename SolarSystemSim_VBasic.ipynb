{
 "cells": [
  {
   "cell_type": "code",
   "execution_count": 2,
   "id": "7486cdb0",
   "metadata": {},
   "outputs": [],
   "source": [
    "#Libraries\n",
    "import numpy as np\n",
    "import scipy.integrate\n",
    "\n",
    "#Plotting & animation\n",
    "import matplotlib.pyplot as plt\n",
    "from matplotlib import animation\n",
    "from mpl_toolkits.mplot3d import Axes3D\n",
    "from matplotlib.animation import FFMpegWriter\n",
    "\n",
    "#Astro\n",
    "import astropy.constants as const\n",
    "import astropy.units as u\n",
    "\n",
    "#GUI\n",
    "import ipywidgets as widgets\n",
    "\n",
    "# %matplotlib osx \n",
    "# ^ UNCOMMENT THIS LINE IF USING MAC\n",
    "\n",
    "%matplotlib qt \n",
    "# ^ UNCOMMENT THIS LINE IS USING WINDOWS"
   ]
  },
  {
   "cell_type": "markdown",
   "id": "e16a0bec",
   "metadata": {},
   "source": [
    "### Class Design Time! (Revisions probably needed) (Classes are in progress below!!)\n",
    "\n",
    "Things we will need to represent:\n",
    "- Planets\n",
    "- Stars\n",
    "- Solar system (which contains a list of planets, as well as a star? Maybe that's the way to do it. Would make potential future expansion easier if we ever want to add binary system/etc/other system with multiple stars)\n",
    "- Transits (should just be a list representing flux over a time interval)\n",
    "- Vectors (data abstraction -> make a class!)\n",
    "- User inputs (keep this organized though)\n",
    "- GUI: Widgets seems like possible solution? Tutorial: https://towardsdatascience.com/bring-your-jupyter-notebook-to-life-with-interactive-widgets-bc12e03f0916\n",
    "\n",
    "- How to handle time? (By days? Can users speed up/slow it down?)"
   ]
  },
  {
   "cell_type": "code",
   "execution_count": 3,
   "id": "3b8c2dfa",
   "metadata": {},
   "outputs": [],
   "source": [
    "class Vector: \n",
    "    \n",
    "    def __init__(self, x, y):\n",
    "        self.x = x\n",
    "        self.y = y\n",
    "    \n",
    "    def __str__(self):\n",
    "        return f'<{self.x}, {self.y}>'\n",
    "    \n",
    "    def length(self):\n",
    "        return math.sqrt(pow(self.x, 2) + pow(self.y, 2))\n",
    "    \n",
    "    def angle(self):\n",
    "        return math.atan2(self.y, self.x)"
   ]
  },
  {
   "cell_type": "code",
   "execution_count": 38,
   "id": "ac65a80a",
   "metadata": {},
   "outputs": [],
   "source": [
    "# Physics stuff. Functions for useful equations go here\n",
    "\n",
    "# '''\n",
    "# Differential equation for finding orbital velocity & acceleration for Planet orbiting Star at some point in time, T\n",
    "# '''\n",
    "# def gravitation(planet, star, t):\n",
    "#     pos = planet.position\n",
    "#     vel = [planet.velocity.x, planet.velocity.y]\n",
    "    \n",
    "#     pos_12 = np.linalg.norm(pos)\n",
    "#     dv_dt = star.mass * (-pos) / pow(pos_12, 3)\n",
    "#     dpos_dt = vel\n",
    "    \n",
    "#     return dpos_dt.extend(dv_dt)\n",
    "\n",
    "'''\n",
    "Represents the differential equation for the law of gravitation.\n",
    "rv: an array containing the positions and velocities of 2 objects\n",
    "t: time\n",
    "'''\n",
    "def gravitation(rv, t, mass_star, mass_planet):\n",
    "    r1 = rv[:2] #* u.au\n",
    "    v1 = rv[2:4] #* (u.meter/u.second)\n",
    "    r12 = np.linalg.norm(r1)\n",
    "    \n",
    "    dv1bydt = mass_planet * (-r1)/(pow(r12, 3))\n",
    "    dr1bydt = v1\n",
    "    \n",
    "    derivatives = np.concatenate((dr1bydt, dv1bydt))\n",
    "    return derivatives"
   ]
  },
  {
   "cell_type": "markdown",
   "id": "4d6bbf26",
   "metadata": {},
   "source": [
    "Methods/attributes a planet should have:\n"
   ]
  },
  {
   "cell_type": "code",
   "execution_count": 106,
   "id": "84009cf0",
   "metadata": {},
   "outputs": [],
   "source": [
    "class Planet:\n",
    "    \n",
    "    '''\n",
    "    radius: radius of planet in Earth radii\n",
    "    mass: mass of planet in Earth masses\n",
    "    distance: planet's distance from star (au) [distance_x, distance_y]\n",
    "    velocity: planet's velocity (m/s) [vx, vy]\n",
    "    '''\n",
    "#     def __init__(self, radius, mass, position, velocity, accel=None, name=None):\n",
    "#         self.radius = radius #* u.R_earth\n",
    "#         self.mass = mass #* u.M_earth\n",
    "#         self.position = position #* u.au #todo: figure this out\n",
    "#         self.velocity = velocity #todo: figure this out\n",
    "#         self.acceleration = accel #todo: figure this out\n",
    "#         self.name = name\n",
    "    def __init__(self, mass, radius, distance, init_velocity, color, implemented=True):\n",
    "        self.mass = mass #* u.M_earth\n",
    "        self.distance = distance #* u.au\n",
    "        self.velocity = init_velocity #* (u.meter/u.second)\n",
    "        self.implemented = implemented\n",
    "        self.color = color\n",
    "        self.radius = radius\n",
    "        \n",
    "        \n",
    "    def __repr__(self):\n",
    "        #todo: print representation\n",
    "        return\n",
    "        \n",
    "#     def __str__(self):\n",
    "#         return f'Planet {self.name}. Radius={self.radius}, mass={self.mass}'\n",
    "    \n",
    "    def set_mass(self, mass):\n",
    "        self.mass = mass\n",
    "    \n",
    "    def set_distance(self, distance):\n",
    "        self.distance = distance\n",
    "    \n",
    "    def set_implemented(self, status):\n",
    "        self.implemented = status\n",
    "    "
   ]
  },
  {
   "cell_type": "markdown",
   "id": "dbe09592",
   "metadata": {},
   "source": [
    "Methods/attributes a star should have:\n"
   ]
  },
  {
   "cell_type": "code",
   "execution_count": 107,
   "id": "5983a1fe",
   "metadata": {},
   "outputs": [],
   "source": [
    "class Star:\n",
    "    \n",
    "    '''\n",
    "    mass: mass of star in solar masses\n",
    "    position: list representing x, y position of star (defaults to origin)\n",
    "    velocity: vector representing x and y components of star's velocity (defaults to 0; ie. stationary)\n",
    "    radius is in Earth radii\n",
    "    '''\n",
    "    def __init__(self, mass, radius, position=[0,0], velocity=[0, 0], name='Sol'):\n",
    "        self.mass = mass #* u.M_sun\n",
    "        self.position = position #* u.au\n",
    "        self.velocity = velocity #* (u.meter/u.second)\n",
    "        self.name = name\n",
    "        self.radius = radius\n",
    "    \n",
    "    def __repr__(self):\n",
    "        #todo: print representation\n",
    "        return\n",
    "        \n",
    "#     def __str__(self):\n",
    "#         return f'Star {self.name}. Radius={self.radius}, mass={self.mass}'   "
   ]
  },
  {
   "cell_type": "markdown",
   "id": "4a150cd7",
   "metadata": {},
   "source": [
    "Methods/attributes a solar system should have:\n"
   ]
  },
  {
   "cell_type": "code",
   "execution_count": 142,
   "id": "542de806",
   "metadata": {},
   "outputs": [],
   "source": [
    "class SolarSystem: \n",
    "    \n",
    "    def __init__(self, star, planets=[]):\n",
    "        self.star = star\n",
    "        self.planets = planets\n",
    "    \n",
    "    def get_planet_masses(self):\n",
    "        masses = []\n",
    "        for planet in self.planets:\n",
    "            if planet.implemented:\n",
    "                masses.append(planet.mass)\n",
    "        return masses\n",
    "    \n",
    "    def get_planet_distances(self):\n",
    "        distances = []\n",
    "        for planet in self.planets:\n",
    "            if planet.implemented:\n",
    "                distances.append(planet.distance[0])\n",
    "        return distances\n",
    "    \n",
    "    def most_massive_planet(self):\n",
    "        masses = self.get_planet_masses()\n",
    "        largest = max(masses)\n",
    "        for planet in self.planets:\n",
    "            if planet.implemented and planet.mass == largest:\n",
    "                return planet\n",
    "        return None\n",
    "    \n",
    "    def farthest_planet(self):\n",
    "        distances = self.get_planet_distances()\n",
    "        farthest = max(distances)\n",
    "        for planet in self.planets:\n",
    "            if planet.implemented and planet.distance[0] == farthest:\n",
    "                return planet\n",
    "        return None\n",
    "            \n",
    "        "
   ]
  },
  {
   "cell_type": "code",
   "execution_count": 160,
   "id": "461553f6",
   "metadata": {},
   "outputs": [],
   "source": [
    "p1 = Planet(3 * 10**(-5), 1.0, [1, 0], [0, 0.75], color='blue')"
   ]
  },
  {
   "cell_type": "code",
   "execution_count": 161,
   "id": "8ec99d65",
   "metadata": {},
   "outputs": [],
   "source": [
    "p2 = Planet(5 * 10**(-5), 3.0, [2, 0], [0, 0.75], color='green')"
   ]
  },
  {
   "cell_type": "code",
   "execution_count": 162,
   "id": "2b6917c6",
   "metadata": {},
   "outputs": [],
   "source": [
    "p3 = Planet(7 * 10**(-5), 6.0, [2.5, 0], [0, 0.75], color='purple')"
   ]
  },
  {
   "cell_type": "code",
   "execution_count": 163,
   "id": "cf22c599",
   "metadata": {},
   "outputs": [],
   "source": [
    "p4 = Planet(10 * 10**(-5), 8.0, [3, 0], [0, 0.75], color='cyan')"
   ]
  },
  {
   "cell_type": "code",
   "execution_count": 164,
   "id": "c907a1e6",
   "metadata": {},
   "outputs": [],
   "source": [
    "p5 = Planet(13 * 10**(-5), 10.0, [5, 0], [0, 0.75], color='red', implemented=False)"
   ]
  },
  {
   "cell_type": "code",
   "execution_count": 23,
   "id": "aaa5a91d",
   "metadata": {},
   "outputs": [
    {
     "ename": "TypeError",
     "evalue": "__init__() missing 2 required positional arguments: 'position' and 'velocity'",
     "output_type": "error",
     "traceback": [
      "\u001b[1;31m---------------------------------------------------------------------------\u001b[0m",
      "\u001b[1;31mTypeError\u001b[0m                                 Traceback (most recent call last)",
      "\u001b[1;32m<ipython-input-23-12ce6d8006fb>\u001b[0m in \u001b[0;36m<module>\u001b[1;34m\u001b[0m\n\u001b[1;32m----> 1\u001b[1;33m \u001b[0mj\u001b[0m \u001b[1;33m=\u001b[0m \u001b[0mPlanet\u001b[0m\u001b[1;33m(\u001b[0m\u001b[1;36m11.2\u001b[0m\u001b[1;33m,\u001b[0m \u001b[1;36m317.8\u001b[0m\u001b[1;33m,\u001b[0m \u001b[0mname\u001b[0m\u001b[1;33m=\u001b[0m\u001b[1;34m'jupiter'\u001b[0m\u001b[1;33m)\u001b[0m\u001b[1;33m\u001b[0m\u001b[1;33m\u001b[0m\u001b[0m\n\u001b[0m\u001b[0;32m      2\u001b[0m \u001b[0mj\u001b[0m\u001b[1;33m.\u001b[0m\u001b[0mmass\u001b[0m\u001b[1;33m\u001b[0m\u001b[1;33m\u001b[0m\u001b[0m\n",
      "\u001b[1;31mTypeError\u001b[0m: __init__() missing 2 required positional arguments: 'position' and 'velocity'"
     ]
    }
   ],
   "source": [
    "# j = Planet(11.2, 317.8, name='jupiter')\n",
    "# j.mass"
   ]
  },
  {
   "cell_type": "code",
   "execution_count": 165,
   "id": "a7408cf8",
   "metadata": {},
   "outputs": [],
   "source": [
    "sun = Star(1, 100.0)"
   ]
  },
  {
   "cell_type": "code",
   "execution_count": 57,
   "id": "200aa64a",
   "metadata": {},
   "outputs": [],
   "source": [
    "# # Package initial parameters into one array (just easier to work with this way)\n",
    "# r1 = earth.distance\n",
    "# v1 = earth.velocity\n",
    "# init_params = np.array([r1, v1])\n",
    "# init_params = init_params.flatten()\n",
    "# time_span = np.linspace(0, 100, 500)  # run for t=5 (500 points)\n",
    "# # Run the ODE solver\n",
    "# sol = scipy.integrate.odeint(gravitation, init_params, time_span, args=(earth.mass, sun.mass))"
   ]
  },
  {
   "cell_type": "code",
   "execution_count": 58,
   "id": "49d21c76",
   "metadata": {},
   "outputs": [],
   "source": [
    "# # Package initial parameters into one array (just easier to work with this way)\n",
    "# r2 = earth2.distance\n",
    "# v2 = earth2.velocity\n",
    "# init_params = np.array([r2, v2])\n",
    "# init_params = init_params.flatten()\n",
    "# time_span = np.linspace(0, 100, 500)  # run for t=5 (500 points)\n",
    "# # Run the ODE solver\n",
    "# sol2 = scipy.integrate.odeint(gravitation, init_params, time_span, args=(earth2.mass, sun.mass))"
   ]
  },
  {
   "cell_type": "code",
   "execution_count": 59,
   "id": "e2e54fcb",
   "metadata": {},
   "outputs": [],
   "source": [
    "# # Package initial parameters into one array (just easier to work with this way)\n",
    "# r3 = earth3.distance\n",
    "# v3 = earth3.velocity\n",
    "# init_params = np.array([r3, v3])\n",
    "# init_params = init_params.flatten()\n",
    "# time_span = np.linspace(0, 100, 500)  # run for t=5 (500 points)\n",
    "# # Run the ODE solver\n",
    "# sol3 = scipy.integrate.odeint(gravitation, init_params, time_span, args=(earth3.mass, sun.mass))"
   ]
  },
  {
   "cell_type": "code",
   "execution_count": 60,
   "id": "acc08387",
   "metadata": {},
   "outputs": [],
   "source": [
    "# r1_sol = sol[:, :2]\n",
    "# r2_sol = sol2[:, :2]\n",
    "# r3_sol = sol3[:, :2]"
   ]
  },
  {
   "cell_type": "code",
   "execution_count": 166,
   "id": "00bd1b1e",
   "metadata": {},
   "outputs": [],
   "source": [
    "#Set up solar system object\n",
    "test_system = SolarSystem(sun, [p1, p2, p3, p4, p5])"
   ]
  },
  {
   "cell_type": "code",
   "execution_count": 173,
   "id": "bb2e08fd",
   "metadata": {},
   "outputs": [],
   "source": [
    "# Set up & solve ODE for motion of each planet in the solar system\n",
    "# todo: automatically set time to run the animation on (determine params for timespan)\n",
    "# todo: set plot dimensions automatically\n",
    "\n",
    "all_orbit_solutions = []\n",
    "# time to run simulation should depend on how far the farthest planet is\n",
    "time_span = np.linspace(0, max(test_system.get_planet_distances()) * 100, 1000) \n",
    "axes_limits = [-max(test_system.get_planet_distances()) * 10, max(test_system.get_planet_distances()) * 5]\n",
    "lightcurve = []\n",
    "\n",
    "for planet in test_system.planets:\n",
    "    if planet.implemented:\n",
    "        init_params = np.array([planet.distance, planet.velocity])\n",
    "        init_params = init_params.flatten()\n",
    "        sol = scipy.integrate.odeint(gravitation, init_params, time_span, args=(planet.mass, test_system.star.mass))\n",
    "        sol_for_planet = sol[:, :2]\n",
    "        all_orbit_solutions.append(sol_for_planet)"
   ]
  },
  {
   "cell_type": "code",
   "execution_count": 174,
   "id": "cdda976a",
   "metadata": {},
   "outputs": [],
   "source": [
    "# Initialize writer \n",
    "metadata = dict(title='Orbit Test', artist='Matplotlib')\n",
    "writer = FFMpegWriter(fps=50, metadata=metadata, bitrate=200000) # change fps for different frame rates\n",
    "fig = plt.figure(dpi=200)"
   ]
  },
  {
   "cell_type": "code",
   "execution_count": 175,
   "id": "60752fd3",
   "metadata": {},
   "outputs": [],
   "source": [
    "# SAVE AS MP4 (will be saved in whatever directory you are working in)\n",
    "fig, (ax1, ax2) = plt.subplots(2, 1)\n",
    "\n",
    "with writer.saving(fig, \"orbit_test_14.mp4\", dpi=200):\n",
    "    for i in range(len(time_span)):\n",
    "\n",
    "        # Animation of orbiting planets\n",
    "        ax1.clear()\n",
    "        \n",
    "        for planet_idx in range(len(test_system.planets)):\n",
    "            if test_system.planets[planet_idx].implemented:\n",
    "                planet_sols = all_orbit_solutions[planet_idx]\n",
    "                ax1.plot(planet_sols[:i, 0], planet_sols[:i, 1], color = test_system.planets[planet_idx].color, alpha=0.5) # path\n",
    "                ax1.scatter(planet_sols[i,0], planet_sols[i,1],color = test_system.planets[planet_idx].color, marker=\"o\",s=20, zorder=5) # planet\n",
    "\n",
    "        \n",
    "        ax1.scatter(0, 0, color=\"orange\",marker=\"*\", s=50, zorder=5) # star\n",
    "        \n",
    "        ax1.set_xlim(axes_limits[0], axes_limits[1])\n",
    "        ax1.set_ylim(axes_limits[0], axes_limits[1])\n",
    "        ax1.set_title('Solar System Animation')\n",
    "\n",
    "\n",
    "        \n",
    "        # TODO: Animation of lightcurve w/ transits\n",
    "        ax2.clear()\n",
    "        \n",
    "        # 1. define observation of transit to be when planet moves back to where it started (position = [orig_distance, 0]) (+/- a bit)\n",
    "        # 2. lightcurve value is 1.0 if no transits\n",
    "        # 3. lightcurve value is 1.0 - (planet size/star ratio) (placeholder: planet mass * 100 for test)\n",
    "        \n",
    "        flux_level = 1.0\n",
    "        for planet_idx in range(len(test_system.planets)):\n",
    "            if test_system.planets[planet_idx].implemented:\n",
    "                planet_sols = all_orbit_solutions[planet_idx]\n",
    "                dist = test_system.planets[planet_idx].distance\n",
    "                loc = [planet_sols[i, 0], planet_sols[i, 1]]\n",
    "                if abs(loc[0] - dist[0]) < 0.1 and abs(loc[1]) < 0.1:\n",
    "                #if np.absolute(np.array([planet_sols[:i, 0], planet_sols[:i, 1]]) - np.array(test_system.planets[planet_idx].distance) < np.array([0.1, 0.1]):\n",
    "                    flux_level -= pow((test_system.planets[planet_idx].radius/test_system.star.radius), 2)\n",
    "            lightcurve.append(flux_level)\n",
    "            \n",
    "        ax2.plot(lightcurve[:i], color = 'black', alpha=0.6)\n",
    "        ax2.scatter(i, flux_level, color = 'orange', marker = 'o', s=10, zorder = 5)\n",
    "        \n",
    "        ax2.set_xlim(0, len(time_span))\n",
    "        ax2.set_ylim(0.98, 1.005)\n",
    "        ax2.set_title('Lightcurve')\n",
    "        \n",
    "        plt.draw()\n",
    "        plt.pause(0.01)\n",
    "        writer.grab_frame()"
   ]
  },
  {
   "cell_type": "code",
   "execution_count": 61,
   "id": "4a88edfb",
   "metadata": {},
   "outputs": [],
   "source": []
  },
  {
   "cell_type": "code",
   "execution_count": 62,
   "id": "b1c16024",
   "metadata": {},
   "outputs": [],
   "source": []
  },
  {
   "cell_type": "code",
   "execution_count": 64,
   "id": "86799f74",
   "metadata": {},
   "outputs": [],
   "source": []
  },
  {
   "cell_type": "code",
   "execution_count": null,
   "id": "219cc72d",
   "metadata": {},
   "outputs": [],
   "source": []
  },
  {
   "cell_type": "code",
   "execution_count": null,
   "id": "99e1b952",
   "metadata": {},
   "outputs": [],
   "source": []
  },
  {
   "cell_type": "code",
   "execution_count": null,
   "id": "831ce5b4",
   "metadata": {},
   "outputs": [],
   "source": []
  }
 ],
 "metadata": {
  "kernelspec": {
   "display_name": "Python 3",
   "language": "python",
   "name": "python3"
  },
  "language_info": {
   "codemirror_mode": {
    "name": "ipython",
    "version": 3
   },
   "file_extension": ".py",
   "mimetype": "text/x-python",
   "name": "python",
   "nbconvert_exporter": "python",
   "pygments_lexer": "ipython3",
   "version": "3.8.8"
  }
 },
 "nbformat": 4,
 "nbformat_minor": 5
}
