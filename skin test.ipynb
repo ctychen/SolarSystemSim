{
 "cells": [
  {
   "cell_type": "code",
   "execution_count": 13,
   "id": "016adcf9",
   "metadata": {},
   "outputs": [],
   "source": [
    "import numpy as np\n",
    "import matplotlib.pyplot as plt\n",
    "import scipy\n",
    "import scipy.integrate\n",
    "\n",
    "from mpl_toolkits.mplot3d import Axes3D\n",
    "from matplotlib.animation import FFMpegWriter\n",
    "\n",
    "%config InlineBackend.figure_format='retina' # makes animation display better\n",
    "\n",
    "%matplotlib osx "
   ]
  },
  {
   "cell_type": "code",
   "execution_count": 11,
   "id": "eb4cd998",
   "metadata": {
    "scrolled": true
   },
   "outputs": [
    {
     "data": {
      "image/png": "[encoded data removed]",
      "text/plain": [
       "<Figure size 432x288 with 1 Axes>"
      ]
     },
     "metadata": {
      "needs_background": "light"
     },
     "output_type": "display_data"
    }
   ],
   "source": [
    "import matplotlib.pyplot as plt\n",
    "from matplotlib.offsetbox import OffsetImage, AnnotationBbox\n",
    "\n",
    "def getImage(path):\n",
    "    return OffsetImage(plt.imread(path, format=\"jpg\"), zoom=.03)\n",
    "\n",
    "paths = ['mars.png', 'earth.png', 'mars.png', 'earth.png']\n",
    "x = [8, 4, 1, 6]\n",
    "y = [5, 2, 4, 8]\n",
    "fig, ax = plt.subplots()\n",
    "for x0, y0, path in zip(x, y, paths):\n",
    "    ab = AnnotationBbox(getImage(path), (x0, y0), frameon=False)\n",
    "    ax.add_artist(ab)\n",
    "plt.xticks(range(10))\n",
    "plt.yticks(range(10))\n",
    "plt.show()\n"
   ]
  },
  {
   "cell_type": "code",
   "execution_count": 14,
   "id": "7c3dd273",
   "metadata": {},
   "outputs": [],
   "source": [
    "import matplotlib.pyplot as plt\n",
    "import numpy as np\n",
    "import matplotlib.animation as animation\n",
    "\n",
    "fig, ax = plt.subplots()\n",
    "\n",
    "ax.set_xlim([-1,1])\n",
    "ax.set_ylim([-1,1])\n",
    "\n",
    "L = 50\n",
    "theta = np.linspace(0,2*np.pi,L)\n",
    "r = np.ones_like(theta)\n",
    "\n",
    "x = r*np.cos(theta)\n",
    "y = r*np.sin(theta)\n",
    "\n",
    "line, = ax.plot(1,0, 'ro')\n",
    "\n",
    "annotation = ax.annotate(\n",
    "    'annotation', xy=(1,0), xytext=(-1,0),\n",
    "    arrowprops = {'arrowstyle': \"->\"}\n",
    ")\n",
    "\n",
    "def update(i):\n",
    "\n",
    "    new_x = x[i%L]\n",
    "    new_y = y[i%L]\n",
    "    line.set_data(new_x,new_y)\n",
    "\n",
    "    ##annotation.xytext = (-new_x,-new_y) <-- does not work\n",
    "    annotation.set_position((-new_x,-new_y))\n",
    "    annotation.xy = (new_x,new_y)\n",
    "\n",
    "    return line, annotation\n",
    "\n",
    "ani = animation.FuncAnimation(\n",
    "    fig, update, interval = 500, blit = False\n",
    ")\n",
    "\n",
    "plt.show()"
   ]
  },
  {
   "cell_type": "code",
   "execution_count": null,
   "id": "fe3b25c0",
   "metadata": {},
   "outputs": [],
   "source": []
  }
 ],
 "metadata": {
  "kernelspec": {
   "display_name": "Python 3",
   "language": "python",
   "name": "python3"
  },
  "language_info": {
   "codemirror_mode": {
    "name": "ipython",
    "version": 3
   },
   "file_extension": ".py",
   "mimetype": "text/x-python",
   "name": "python",
   "nbconvert_exporter": "python",
   "pygments_lexer": "ipython3",
   "version": "3.8.8"
  }
 },
 "nbformat": 4,
 "nbformat_minor": 5
}
