{
 "cells": [
  {
   "cell_type": "code",
   "execution_count": null,
   "id": "ee1140b8",
   "metadata": {},
   "outputs": [],
   "source": [
    "import numpy as np\n",
    "import matplotlib.pyplot as plt\n",
    "import scipy\n",
    "import scipy.integrate\n",
    "\n",
    "from mpl_toolkits.mplot3d import Axes3D\n",
    "from matplotlib.animation import FFMpegWriter\n",
    "from matplotlib.offsetbox import OffsetImage, AnnotationBbox\n",
    "\n",
    "%config InlineBackend.figure_format='retina' # makes animation display better\n",
    "\n",
    "%matplotlib osx "
   ]
  },
  {
   "cell_type": "code",
   "execution_count": null,
   "id": "df57d406",
   "metadata": {},
   "outputs": [],
   "source": [
    "metadata = dict(title='My first animation', artist='Matplotlib')\n",
    "writer = FFMpegWriter(fps=50, metadata=metadata, bitrate=200000) # change fps for different frame rates\n",
    "fig = plt.figure(dpi=200) ## setting figure size"
   ]
  },
  {
   "cell_type": "code",
   "execution_count": null,
   "id": "a3dfb802",
   "metadata": {},
   "outputs": [],
   "source": [
    "# Define masses\n",
    "mp = 3 * 10**(-5)\n",
    "ms = 1.0\n",
    "\n",
    "# Define initial position vectors \n",
    "r1 = np.array([1, 0])\n",
    "r2 = np.array([0, 0]) # at orgin\n",
    "\n",
    "# Define initial velocities\n",
    "v1 = np.array([0, 0.75])\n",
    "v2 = np.array([0, 0]) # stationary"
   ]
  },
  {
   "cell_type": "code",
   "execution_count": null,
   "id": "65c75388",
   "metadata": {},
   "outputs": [],
   "source": [
    "def OrbitEquation(w, t, m1, m2): # w is an array containing positions and velocities\n",
    "    r1 = w[:2]\n",
    "    v1 = w[2:4]\n",
    "    \n",
    "    r12 = np.linalg.norm(r1)\n",
    "    \n",
    "    dv1bydt = m2*(-r1)/r12**3  # derivative of velocity\n",
    "\n",
    "    dr1bydt = v1 # derivative of position \n",
    "    \n",
    "    r_derivs = dr1bydt\n",
    "    v_derivs = dv1bydt\n",
    "    derivs = np.concatenate((r_derivs, v_derivs)) # joining the two arrays\n",
    "    \n",
    "    return derivs"
   ]
  },
  {
   "cell_type": "code",
   "execution_count": null,
   "id": "f71f6d24",
   "metadata": {},
   "outputs": [],
   "source": [
    "# Package initial parameters into one array (just easier to work with this way)\n",
    "init_params = np.array([r1, v1])\n",
    "init_params = init_params.flatten()\n",
    "time_span = np.linspace(0, 5, 500)  # run for t=5 (500 points)\n",
    "\n",
    "# Run the ODE solver\n",
    "sol = scipy.integrate.odeint(OrbitEquation, init_params, time_span, args=(mp,ms))"
   ]
  },
  {
   "cell_type": "code",
   "execution_count": null,
   "id": "0b6c0cd2",
   "metadata": {},
   "outputs": [],
   "source": [
    "r1_sol = sol[:,:2]"
   ]
  },
  {
   "cell_type": "code",
   "execution_count": null,
   "id": "336dde8c",
   "metadata": {},
   "outputs": [],
   "source": [
    "fig, ax = plt.subplots()\n",
    "def getImage(path):\n",
    "            return OffsetImage(plt.imread(path, format=\"jpg\"), zoom=.03)\n",
    "\n",
    "    with writer.saving(fig, \"orbit.mp4\", dpi=200):\n",
    "    for i in range(len(time_span)):\n",
    "\n",
    "        ax.clear()\n",
    "\n",
    "        ax.plot(r1_sol[:i,0],r1_sol[:i,1],color=\"blue\", alpha=0.5)\n",
    "        ax.scatter(r1_sol[i,0],r1_sol[i,1],color=\"blue\",marker=\"o\",s=20, zorder=5) # planet\n",
    "        \n",
    "        ax.scatter(0, 0, color=\"orange\",marker=\"*\",s=50, zorder=5) # star\n",
    "        \n",
    "        ax.set_xlim(-1.5, 1.5)\n",
    "        ax.set_ylim(-1.5, 1.5)\n",
    "        \n",
    "        \n",
    "        \n",
    "        \n",
    "\n",
    "        paths = ['mars.png', 'earth.png', 'mars.png', 'earth.png']\n",
    "        x = [8, 4, 1, 6]\n",
    "        y = [5, 2, 4, 8]\n",
    "        fig, ax = plt.subplots()\n",
    "        for x0, y0, path in zip(x, y, paths):\n",
    "            ab = AnnotationBbox(getImage(path), (r1_sol[i,0], r1_sol[i,1]), frameon=False)\n",
    "            ax.add_artist(ab)\n",
    "        \n",
    "        \n",
    "\n",
    "\n",
    "\n",
    "\n",
    "        plt.draw()\n",
    "        \n",
    "        plt.pause(0.01)\n",
    "        writer.grab_frame()\n",
    "        "
   ]
  },
  {
   "cell_type": "code",
   "execution_count": null,
   "id": "d4910dfe",
   "metadata": {
    "scrolled": true
   },
   "outputs": [],
   "source": [
    "'''def getImage(path):\n",
    "    return OffsetImage(plt.imread(path, format=\"jpg\"), zoom=.03)\n",
    "\n",
    "paths = ['mars.png', 'earth.png', 'mars.png', 'earth.png']\n",
    "x = [8, 4, 1, 6]\n",
    "y = [5, 2, 4, 8]\n",
    "fig, ax = plt.subplots()\n",
    "for x0, y0, path in zip(x, y, paths):\n",
    "    ab = AnnotationBbox(getImage(path), (x0, y0), frameon=False)\n",
    "    ax.add_artist(ab)\n",
    "plt.xticks(range(10))\n",
    "plt.yticks(range(10))\n",
    "plt.show()\n",
    "'''"
   ]
  },
  {
   "cell_type": "code",
   "execution_count": 14,
   "id": "8f37bc47",
   "metadata": {},
   "outputs": [],
   "source": [
    "'''import matplotlib.pyplot as plt\n",
    "import numpy as np\n",
    "import matplotlib.animation as animation\n",
    "\n",
    "fig, ax = plt.subplots()\n",
    "\n",
    "ax.set_xlim([-1,1])\n",
    "ax.set_ylim([-1,1])\n",
    "\n",
    "L = 50\n",
    "theta = np.linspace(0,2*np.pi,L)\n",
    "r = np.ones_like(theta)\n",
    "\n",
    "x = r*np.cos(theta)\n",
    "y = r*np.sin(theta)\n",
    "\n",
    "line, = ax.plot(1,0, 'ro')\n",
    "\n",
    "annotation = ax.annotate(\n",
    "    'annotation', xy=(1,0), xytext=(-1,0),\n",
    "    arrowprops = {'arrowstyle': \"->\"}\n",
    ")\n",
    "\n",
    "def update(i):\n",
    "\n",
    "    new_x = x[i%L]\n",
    "    new_y = y[i%L]\n",
    "    line.set_data(new_x,new_y)\n",
    "\n",
    "    ##annotation.xytext = (-new_x,-new_y) <-- does not work\n",
    "    annotation.set_position((-new_x,-new_y))\n",
    "    annotation.xy = (new_x,new_y)\n",
    "\n",
    "    return line, annotation\n",
    "\n",
    "ani = animation.FuncAnimation(\n",
    "    fig, update, interval = 500, blit = False\n",
    ")\n",
    "\n",
    "plt.show()'''"
   ]
  },
  {
   "cell_type": "code",
   "execution_count": null,
   "id": "ddc8176c",
   "metadata": {},
   "outputs": [],
   "source": []
  }
 ],
 "metadata": {
  "kernelspec": {
   "display_name": "Python 3",
   "language": "python",
   "name": "python3"
  }
 },
 "nbformat": 4,
 "nbformat_minor": 5
}
