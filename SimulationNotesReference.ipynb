{
 "cells": [
  {
   "cell_type": "markdown",
   "id": "6c2c4975",
   "metadata": {},
   "source": [
    "Key Principles of Simulating\n",
    "- Each time step: inrement all relevant values that change with time\n",
    "- Ex: pos, v, a, phase, angle, maybe mass or luminosity, etc depending on what you're doing\n",
    "- Way to solve for these values at each step (equations: F=ma, momentum, energy conservation, etc. Pick most efficient thing to calculate)\n",
    "- Need to continue incrementing time steps until enough time has passed (while loop for your Main Loop; iterate until you hit a false condition)\n",
    "\n",
    "The Main Loop\n",
    "- Everything runs inside it while your simulation is running.\n",
    "- 5 key points: \n",
    "- Get relevant values (v, x, etc)\n",
    "- Calculate changes from physics\n",
    "- Apply changes to old vals (v+dv, x+dx, etc)\n",
    "- Draw/plot/visualize results\n",
    "- Repeat"
   ]
  },
  {
   "cell_type": "markdown",
   "id": "f77b6984",
   "metadata": {},
   "source": [
    "- Step 1: Make objects\n",
    "- Step 2: Initialize everything (create your objects, set initial positions, etc)\n",
    "- Step 3: Get input from user (optional). Ex: handling keys. Can use pygame (pygame.key.get_pressed()) or similar\n",
    "- Step 4: Physics functions (what happens from frame to frame; use helper functions to do things like increment position/move, handle collisions, etc. Can make classes for common things like vectors to handle position and make moving & etc. easier)\n",
    "- Step 5: Have a way to \"keep score\" (ie. track how many times a specific condition is met -- how many times does something reach a certain position/complete an orbit/collide/etc)\n",
    "- Step 6: Draw the simulation (use pygame, matplotlib, vpython, etc -- animation tools)"
   ]
  },
  {
   "cell_type": "markdown",
   "id": "95043bc7",
   "metadata": {},
   "source": []
  }
 ],
 "metadata": {
  "kernelspec": {
   "display_name": "Python 3",
   "language": "python",
   "name": "python3"
  },
  "language_info": {
   "codemirror_mode": {
    "name": "ipython",
    "version": 3
   },
   "file_extension": ".py",
   "mimetype": "text/x-python",
   "name": "python",
   "nbconvert_exporter": "python",
   "pygments_lexer": "ipython3",
   "version": "3.8.8"
  }
 },
 "nbformat": 4,
 "nbformat_minor": 5
}
