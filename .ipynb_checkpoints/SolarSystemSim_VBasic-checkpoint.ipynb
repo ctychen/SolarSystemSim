{
 "cells": [
  {
   "cell_type": "code",
   "execution_count": null,
   "id": "7486cdb0",
   "metadata": {},
   "outputs": [],
   "source": [
    "#Libraries\n",
    "import numpy as np\n",
    "\n",
    "#Plotting & animation\n",
    "import matplotlib.pyplot as plt\n",
    "from matplotlib import animation\n",
    "\n",
    "#Astro\n",
    "import astropy.constants as const\n",
    "import astropy.units as u"
   ]
  }
 ],
 "metadata": {
  "kernelspec": {
   "display_name": "Python 3",
   "language": "python",
   "name": "python3"
  },
  "language_info": {
   "codemirror_mode": {
    "name": "ipython",
    "version": 3
   },
   "file_extension": ".py",
   "mimetype": "text/x-python",
   "name": "python",
   "nbconvert_exporter": "python",
   "pygments_lexer": "ipython3",
   "version": "3.8.8"
  }
 },
 "nbformat": 4,
 "nbformat_minor": 5
}
