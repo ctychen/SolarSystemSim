{
 "cells": [
  {
   "cell_type": "code",
   "execution_count": 10,
   "id": "7486cdb0",
   "metadata": {},
   "outputs": [],
   "source": [
    "#Libraries\n",
    "import numpy as np\n",
    "import scipy.integrate\n",
    "\n",
    "#Plotting & animation\n",
    "import matplotlib.pyplot as plt\n",
    "from matplotlib import animation\n",
    "from mpl_toolkits.mplot3d import Axes3D\n",
    "from matplotlib.animation import FFMpegWriter\n",
    "\n",
    "#Astro\n",
    "import astropy.constants as const\n",
    "import astropy.units as u\n",
    "\n",
    "#GUI\n",
    "import ipywidgets as widgets\n",
    "\n",
    "# %matplotlib osx \n",
    "# ^ UNCOMMENT THIS LINE IF USING MAC\n",
    "\n",
    "%matplotlib qt \n",
    "# ^ UNCOMMENT THIS LINE IS USING WINDOWS"
   ]
  },
  {
   "cell_type": "markdown",
   "id": "e16a0bec",
   "metadata": {},
   "source": [
    "### Class Design Time! (Revisions probably needed) (Classes are in progress below!!)\n",
    "\n",
    "Things we will need to represent:\n",
    "- Planets\n",
    "- Stars\n",
    "- Solar system (which contains a list of planets, as well as a star? Maybe that's the way to do it. Would make potential future expansion easier if we ever want to add binary system/etc/other system with multiple stars)\n",
    "- Transits (should just be a list representing flux over a time interval)\n",
    "- Vectors (data abstraction -> make a class!)\n",
    "- User inputs (keep this organized though)\n",
    "- GUI: Widgets seems like possible solution? Tutorial: https://towardsdatascience.com/bring-your-jupyter-notebook-to-life-with-interactive-widgets-bc12e03f0916\n",
    "\n",
    "- How to handle time? (By days? Can users speed up/slow it down?)"
   ]
  },
  {
   "cell_type": "code",
   "execution_count": 3,
   "id": "3b8c2dfa",
   "metadata": {},
   "outputs": [],
   "source": [
    "class Vector: \n",
    "    \n",
    "    def __init__(self, x, y):\n",
    "        self.x = x\n",
    "        self.y = y\n",
    "    \n",
    "    def __str__(self):\n",
    "        return f'<{self.x}, {self.y}>'\n",
    "    \n",
    "    def length(self):\n",
    "        return math.sqrt(pow(self.x, 2) + pow(self.y, 2))\n",
    "    \n",
    "    def angle(self):\n",
    "        return math.atan2(self.y, self.x)"
   ]
  },
  {
   "cell_type": "code",
   "execution_count": 16,
   "id": "ac65a80a",
   "metadata": {},
   "outputs": [],
   "source": [
    "# Physics stuff. Functions for useful equations go here\n",
    "\n",
    "'''\n",
    "Differential equation for finding orbital velocity & acceleration for Planet orbiting Star at some point in time, T\n",
    "'''\n",
    "# def gravitation(planet, star, t):\n",
    "#     pos = planet.position\n",
    "#     vel = [planet.velocity.x, planet.velocity.y]\n",
    "    \n",
    "#     pos_12 = np.linalg.norm(pos)\n",
    "#     dv_dt = star.mass * (-pos) / pow(pos_12, 3)\n",
    "#     dpos_dt = vel\n",
    "    \n",
    "#     return dpos_dt.extend(dv_dt)\n",
    "\n",
    "def gravitation(rv, t, mass_star, mass_planet):\n",
    "    r1 = rv[:2]\n",
    "    v1 = rv[2:4]\n",
    "    r12 = np.linalg.norm(r1)\n",
    "    \n",
    "    dv1bydt = mass_planet * (-r1)/(pow(r12, 3))\n",
    "    dr1bydt = v1\n",
    "    \n",
    "    derivatives = np.concatenate((dr1bydt, dv1bydt))\n",
    "    return derivatives\n",
    "\n",
    "\n",
    "# def gravitation(w, t, m1, m2): # w is an array containing positions and velocities\n",
    "#     r1 = w[:2]\n",
    "#     v1 = w[2:4]\n",
    "    \n",
    "#     r12 = np.linalg.norm(r1)\n",
    "    \n",
    "#     dv1bydt = m2*(-r1)/r12**3  # derivative of velocity\n",
    "\n",
    "#     dr1bydt = v1 # derivative of position \n",
    "    \n",
    "#     r_derivs = dr1bydt\n",
    "#     v_derivs = dv1bydt\n",
    "#     derivs = np.concatenate((r_derivs, v_derivs)) # joining the two arrays\n",
    "    \n",
    "#     return derivs\n",
    "\n"
   ]
  },
  {
   "cell_type": "markdown",
   "id": "4d6bbf26",
   "metadata": {},
   "source": [
    "Methods/attributes a planet should have:\n"
   ]
  },
  {
   "cell_type": "code",
   "execution_count": 20,
   "id": "84009cf0",
   "metadata": {},
   "outputs": [],
   "source": [
    "class Planet:\n",
    "    \n",
    "    '''\n",
    "    radius: radius of planet in Earth radii\n",
    "    mass: mass of planet in Earth masses\n",
    "    position: list representing x, y position of planet\n",
    "    velocity: vector representing x and y components of planet's velocity\n",
    "    '''\n",
    "    def __init__(self, radius, mass, position, velocity, accel=None, name=None):\n",
    "        self.radius = radius #* u.R_earth\n",
    "        self.mass = mass #* u.M_earth\n",
    "        self.position = position #* u.au #todo: figure this out\n",
    "        self.velocity = velocity #todo: figure this out\n",
    "        self.acceleration = accel #todo: figure this out\n",
    "        self.name = name\n",
    "        \n",
    "    def __repr__(self):\n",
    "        #todo: print representation\n",
    "        return\n",
    "        \n",
    "    def __str__(self):\n",
    "        return f'Planet {self.name}. Radius={self.radius}, mass={self.mass}'"
   ]
  },
  {
   "cell_type": "markdown",
   "id": "dbe09592",
   "metadata": {},
   "source": [
    "Methods/attributes a star should have:\n"
   ]
  },
  {
   "cell_type": "code",
   "execution_count": 19,
   "id": "5983a1fe",
   "metadata": {},
   "outputs": [],
   "source": [
    "class Star:\n",
    "    \n",
    "    '''\n",
    "    radius: radius of star in solar radii\n",
    "    mass: mass of star in solar masses\n",
    "    position: list representing x, y position of star (defaults to origin)\n",
    "    velocity: vector representing x and y components of star's velocity (defaults to 0; ie. stationary)\n",
    "    '''\n",
    "    def __init__(self, radius, mass, position=[0,0], velocity=Vector(0, 0), name='Sol'):\n",
    "        self.radius = radius #* u.R_sun\n",
    "        self.mass = mass #* u.M_sun\n",
    "        self.position = position #* u.au\n",
    "        self.velocity = velocity\n",
    "        self.name = name\n",
    "    \n",
    "    def __repr__(self):\n",
    "        #todo: print representation\n",
    "        return\n",
    "        \n",
    "    def __str__(self):\n",
    "        return f'Star {self.name}. Radius={self.radius}, mass={self.mass}'   "
   ]
  },
  {
   "cell_type": "markdown",
   "id": "4a150cd7",
   "metadata": {},
   "source": [
    "Methods/attributes a solar system should have:\n"
   ]
  },
  {
   "cell_type": "code",
   "execution_count": 7,
   "id": "542de806",
   "metadata": {},
   "outputs": [],
   "source": [
    "class SolarSystem: \n",
    "    \n",
    "    def __init__(self, star, planets=[]):\n",
    "        self.star = star\n",
    "        self.planets = planets\n",
    "        "
   ]
  },
  {
   "cell_type": "code",
   "execution_count": 81,
   "id": "461553f6",
   "metadata": {},
   "outputs": [
    {
     "data": {
      "text/plain": [
       "'Planet earth. Radius=1e-05, mass=1e-05'"
      ]
     },
     "execution_count": 81,
     "metadata": {},
     "output_type": "execute_result"
    }
   ],
   "source": [
    "earth = Planet(1 * 10**(-5), 1 * 10**(-5), [1, 0], [0, 0.75], name='earth')\n",
    "earth.radius\n",
    "str(earth)"
   ]
  },
  {
   "cell_type": "code",
   "execution_count": 82,
   "id": "509491b3",
   "metadata": {},
   "outputs": [
    {
     "data": {
      "text/plain": [
       "1e-05"
      ]
     },
     "execution_count": 82,
     "metadata": {},
     "output_type": "execute_result"
    }
   ],
   "source": [
    "earth2 = Planet(1 * 10**(-5), 1.5 * 10**(-5), [2, 0], [0, 0.75], name='earth2')\n",
    "earth2.radius"
   ]
  },
  {
   "cell_type": "code",
   "execution_count": 90,
   "id": "85ce75ff",
   "metadata": {},
   "outputs": [
    {
     "data": {
      "text/plain": [
       "1e-05"
      ]
     },
     "execution_count": 90,
     "metadata": {},
     "output_type": "execute_result"
    }
   ],
   "source": [
    "earth3 = Planet(1 * 10**(-5), 2 * 10**(-5), [3, 0], [0, 0.75], name='earth2')\n",
    "earth3.radius\n",
    "# str(earth)"
   ]
  },
  {
   "cell_type": "code",
   "execution_count": 23,
   "id": "aaa5a91d",
   "metadata": {},
   "outputs": [
    {
     "ename": "TypeError",
     "evalue": "__init__() missing 2 required positional arguments: 'position' and 'velocity'",
     "output_type": "error",
     "traceback": [
      "\u001b[1;31m---------------------------------------------------------------------------\u001b[0m",
      "\u001b[1;31mTypeError\u001b[0m                                 Traceback (most recent call last)",
      "\u001b[1;32m<ipython-input-23-12ce6d8006fb>\u001b[0m in \u001b[0;36m<module>\u001b[1;34m\u001b[0m\n\u001b[1;32m----> 1\u001b[1;33m \u001b[0mj\u001b[0m \u001b[1;33m=\u001b[0m \u001b[0mPlanet\u001b[0m\u001b[1;33m(\u001b[0m\u001b[1;36m11.2\u001b[0m\u001b[1;33m,\u001b[0m \u001b[1;36m317.8\u001b[0m\u001b[1;33m,\u001b[0m \u001b[0mname\u001b[0m\u001b[1;33m=\u001b[0m\u001b[1;34m'jupiter'\u001b[0m\u001b[1;33m)\u001b[0m\u001b[1;33m\u001b[0m\u001b[1;33m\u001b[0m\u001b[0m\n\u001b[0m\u001b[0;32m      2\u001b[0m \u001b[0mj\u001b[0m\u001b[1;33m.\u001b[0m\u001b[0mmass\u001b[0m\u001b[1;33m\u001b[0m\u001b[1;33m\u001b[0m\u001b[0m\n",
      "\u001b[1;31mTypeError\u001b[0m: __init__() missing 2 required positional arguments: 'position' and 'velocity'"
     ]
    }
   ],
   "source": [
    "j = Planet(11.2, 317.8, name='jupiter')\n",
    "j.mass"
   ]
  },
  {
   "cell_type": "code",
   "execution_count": 60,
   "id": "85897f88",
   "metadata": {},
   "outputs": [],
   "source": [
    "sun = Star(1, 1)"
   ]
  },
  {
   "cell_type": "code",
   "execution_count": 95,
   "id": "d2466f3b",
   "metadata": {},
   "outputs": [],
   "source": [
    "# Package initial parameters into one array (just easier to work with this way)\n",
    "r1 = earth.position\n",
    "v1 = earth.velocity\n",
    "init_params = np.array([r1, v1])\n",
    "init_params = init_params.flatten()\n",
    "time_span = np.linspace(0, 60, 6000)  # run for t=5 (500 points)\n",
    "# Run the ODE solver\n",
    "sol = scipy.integrate.odeint(gravitation, init_params, time_span, args=(earth.mass, sun.mass))"
   ]
  },
  {
   "cell_type": "code",
   "execution_count": 96,
   "id": "4c327c79",
   "metadata": {},
   "outputs": [],
   "source": [
    "# Package initial parameters into one array (just easier to work with this way)\n",
    "r2 = earth2.position\n",
    "v2 = earth2.velocity\n",
    "init_params = np.array([r2, v2])\n",
    "init_params = init_params.flatten()\n",
    "time_span = np.linspace(0, 60, 6000)  # run for t=5 (500 points)\n",
    "# Run the ODE solver\n",
    "sol2 = scipy.integrate.odeint(gravitation, init_params, time_span, args=(earth2.mass, sun.mass))"
   ]
  },
  {
   "cell_type": "code",
   "execution_count": 97,
   "id": "1bf5f778",
   "metadata": {},
   "outputs": [],
   "source": [
    "# Package initial parameters into one array (just easier to work with this way)\n",
    "r3 = earth3.position\n",
    "v3 = earth3.velocity\n",
    "init_params = np.array([r3, v3])\n",
    "init_params = init_params.flatten()\n",
    "time_span = np.linspace(0, 60, 6000)  # run for t=5 (500 points)\n",
    "# Run the ODE solver\n",
    "sol3 = scipy.integrate.odeint(gravitation, init_params, time_span, args=(earth3.mass, sun.mass))"
   ]
  },
  {
   "cell_type": "code",
   "execution_count": 98,
   "id": "b1fc64c5",
   "metadata": {},
   "outputs": [],
   "source": [
    "r1_sol = sol[:, :2]\n",
    "r2_sol = sol2[:, :2]\n",
    "r3_sol = sol3[:, :2]"
   ]
  },
  {
   "cell_type": "code",
   "execution_count": 99,
   "id": "edcba71f",
   "metadata": {},
   "outputs": [],
   "source": [
    "# Initialize writer \n",
    "metadata = dict(title='Orbit Test', artist='Matplotlib')\n",
    "writer = FFMpegWriter(fps=50, metadata=metadata, bitrate=200000) # change fps for different frame rates\n",
    "fig = plt.figure(dpi=200)"
   ]
  },
  {
   "cell_type": "code",
   "execution_count": null,
   "id": "7077abdc",
   "metadata": {},
   "outputs": [],
   "source": [
    "# SAVE AS MP4 (will be saved in whatever directory you are working in)\n",
    "fig, ax = plt.subplots()\n",
    "\n",
    "with writer.saving(fig, \"orbit_test_4.mp4\", dpi=200):\n",
    "    for i in range(len(time_span)):\n",
    "\n",
    "        ax.clear()\n",
    "\n",
    "        ax.plot(r1_sol[:i,0],r1_sol[:i,1],color=\"blue\", alpha=0.5)\n",
    "        ax.scatter(r1_sol[i,0],r1_sol[i,1],color=\"blue\",marker=\"o\",s=20, zorder=5) # planet\n",
    "        \n",
    "        ax.plot(r2_sol[:i,0],r2_sol[:i,1],color=\"green\", alpha=0.5)\n",
    "        ax.scatter(r2_sol[i,0],r2_sol[i,1],color=\"green\",marker=\"o\",s=20, zorder=5) # planet\n",
    "        \n",
    "        ax.plot(r3_sol[:i,0],r3_sol[:i,1],color=\"red\", alpha=0.5)\n",
    "        ax.scatter(r3_sol[i,0],r3_sol[i,1],color=\"red\",marker=\"o\",s=20, zorder=5) # planet\n",
    "        \n",
    "        ax.scatter(0, 0, color=\"orange\",marker=\"*\", s=50, zorder=5) # star\n",
    "        \n",
    "        ax.set_xlim(-15.0, 15.0)\n",
    "        ax.set_ylim(-15.0, 15.0)\n",
    "        \n",
    "        plt.draw()\n",
    "        plt.pause(0.01)\n",
    "        writer.grab_frame()"
   ]
  }
 ],
 "metadata": {
  "kernelspec": {
   "display_name": "Python 3",
   "language": "python",
   "name": "python3"
  },
  "language_info": {
   "codemirror_mode": {
    "name": "ipython",
    "version": 3
   },
   "file_extension": ".py",
   "mimetype": "text/x-python",
   "name": "python",
   "nbconvert_exporter": "python",
   "pygments_lexer": "ipython3",
   "version": "3.8.8"
  }
 },
 "nbformat": 4,
 "nbformat_minor": 5
}
